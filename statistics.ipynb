{
 "cells": [
  {
   "cell_type": "code",
   "execution_count": 49,
   "metadata": {},
   "outputs": [
    {
     "name": "stdout",
     "output_type": "stream",
     "text": [
      "The autoreload extension is already loaded. To reload it, use:\n",
      "  %reload_ext autoreload\n"
     ]
    }
   ],
   "source": [
    "%load_ext autoreload\n",
    "%autoreload 2\n",
    "\n",
    "from load_data.load_data import MPKGraphLoader, TramGraphLoader, BusGraphLoader\n",
    "from map_utils import get_map, get_hex_area, TransferConfig, get_izochrone_map\n",
    "import warnings\n",
    "warnings.filterwarnings('ignore')\n",
    "import networkx as nx\n",
    "import matplotlib.pyplot as plt\n",
    "from qwlist import QList, Lazy\n",
    "from tqdm import tqdm"
   ]
  },
  {
   "cell_type": "code",
   "execution_count": 3,
   "metadata": {},
   "outputs": [],
   "source": [
    "loader_2023 = MPKGraphLoader.from_pickle('./data/mpk_graph_loader_2023.pkl')\n",
    "loader_2024 = MPKGraphLoader.from_pickle('./data/mpk_graph_loader_2024.pkl')"
   ]
  },
  {
   "cell_type": "code",
   "execution_count": 47,
   "metadata": {},
   "outputs": [],
   "source": [
    "def statistics(graph: nx.Graph):\n",
    "    strongly_connected = next(nx.strongly_connected_components(graph))\n",
    "    g = graph.subgraph(strongly_connected)\n",
    "\n",
    "    nodes_count = graph.number_of_nodes()\n",
    "    print(f'Nodes count: {nodes_count}')\n",
    "\n",
    "    edges_count = graph.number_of_edges()\n",
    "    print(f'Edges count: {edges_count}')\n",
    "\n",
    "    diameter = nx.diameter(g)\n",
    "    print(f'Diameter: {diameter}')\n",
    "\n",
    "    density = nx.density(graph)\n",
    "    print(f'Density: {density}')\n",
    "\n",
    "    betweenness_centrality = nx.betweenness_centrality(graph)\n",
    "    total = len(betweenness_centrality)\n",
    "    sum_ = Lazy(betweenness_centrality.items()).map(lambda item: item[1]).fold(lambda acc, x: acc + x, 0)\n",
    "    print(f'Node betweenness centrality: {sum_ / total}')\n",
    "\n",
    "    edge_betweenness_centrality = nx.edge_betweenness_centrality(graph)\n",
    "    total = len(edge_betweenness_centrality)\n",
    "    sum_ = Lazy(edge_betweenness_centrality.items()).map(lambda item: item[1]).fold(lambda acc, x: acc + x, 0)\n",
    "    print(f'Edge betweenness centrality: {sum_ / total}')\n",
    "\n",
    "    avg_shortest_path = nx.average_shortest_path_length(g)\n",
    "    print(f'Avg shortest path: {avg_shortest_path}')\n",
    "\n",
    "def average_hex_area(loader: MPKGraphLoader, max_time: int, transfer_time: int = 5):\n",
    "    areas = []\n",
    "    for name in tqdm(loader.stop_names):\n",
    "        cfg = TransferConfig(name, max_time, transfer_time)\n",
    "        area = get_hex_area(8, loader, cfg)\n",
    "        areas.append(area)\n",
    "    return sum(areas) / len(areas)\n"
   ]
  },
  {
   "cell_type": "code",
   "execution_count": 43,
   "metadata": {},
   "outputs": [
    {
     "name": "stdout",
     "output_type": "stream",
     "text": [
      "Nodes count: 2064\n",
      "Edges count: 13632\n",
      "Diameter: 57\n",
      "Density: 0.003201478993112311\n",
      "Node betweenness centrality: 0.0074095776451867075\n",
      "Edge betweenness centrality: 0.001194106852131084\n",
      "Avg shortest path: 16.28673576708089\n"
     ]
    }
   ],
   "source": [
    "statistics(loader_2023.multigraph)"
   ]
  },
  {
   "cell_type": "code",
   "execution_count": 44,
   "metadata": {},
   "outputs": [
    {
     "name": "stdout",
     "output_type": "stream",
     "text": [
      "Nodes count: 2149\n",
      "Edges count: 14176\n",
      "Diameter: 59\n",
      "Density: 0.0030710225967991696\n",
      "Node betweenness centrality: 0.007320997725911718\n",
      "Edge betweenness centrality: 0.0011793300026476184\n",
      "Avg shortest path: 16.71818211753247\n"
     ]
    }
   ],
   "source": [
    "statistics(loader_2024.multigraph)"
   ]
  },
  {
   "cell_type": "code",
   "execution_count": 50,
   "metadata": {},
   "outputs": [
    {
     "name": "stderr",
     "output_type": "stream",
     "text": [
      "100%|██████████| 611/611 [04:38<00:00,  2.20it/s]\n"
     ]
    },
    {
     "data": {
      "text/plain": [
       "56.95259527706332"
      ]
     },
     "execution_count": 50,
     "metadata": {},
     "output_type": "execute_result"
    }
   ],
   "source": [
    "average_hex_area(loader_2023, 30)"
   ]
  },
  {
   "cell_type": "code",
   "execution_count": 51,
   "metadata": {},
   "outputs": [
    {
     "name": "stderr",
     "output_type": "stream",
     "text": [
      "100%|██████████| 622/622 [05:14<00:00,  1.97it/s]\n"
     ]
    },
    {
     "data": {
      "text/plain": [
       "62.38327591486759"
      ]
     },
     "execution_count": 51,
     "metadata": {},
     "output_type": "execute_result"
    }
   ],
   "source": [
    "average_hex_area(loader_2024, 30)"
   ]
  },
  {
   "cell_type": "code",
   "execution_count": null,
   "metadata": {},
   "outputs": [],
   "source": []
  }
 ],
 "metadata": {
  "kernelspec": {
   "display_name": "venv",
   "language": "python",
   "name": "python3"
  },
  "language_info": {
   "codemirror_mode": {
    "name": "ipython",
    "version": 3
   },
   "file_extension": ".py",
   "mimetype": "text/x-python",
   "name": "python",
   "nbconvert_exporter": "python",
   "pygments_lexer": "ipython3",
   "version": "3.10.8"
  }
 },
 "nbformat": 4,
 "nbformat_minor": 2
}
