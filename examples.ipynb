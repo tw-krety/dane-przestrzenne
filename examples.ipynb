{
 "cells": [
  {
   "cell_type": "code",
   "execution_count": 1,
   "metadata": {},
   "outputs": [],
   "source": [
    "%load_ext autoreload\n",
    "%autoreload 2\n",
    "\n",
    "import sys; sys.path.append('..')\n",
    "from load_data.load_data import MPKGraphLoader, Stop, get_line_colors, TramGraphLoader, BusGraphLoader\n",
    "import networkx as nx\n",
    "import geopandas as gpd\n",
    "from shapely.geometry import Point"
   ]
  },
  {
   "cell_type": "markdown",
   "metadata": {},
   "source": [
    "### Ładowanie grafu z plików xml i zapisanie do plików pickle\n",
    "\n",
    "Jako ścieżkę podaj ścieżkę do folderu zawierającego plik **stops.txt** i folder **lines**"
   ]
  },
  {
   "cell_type": "code",
   "execution_count": 4,
   "metadata": {},
   "outputs": [],
   "source": [
    "XML_PATH_2023 = './data/xmls_2023/'\n",
    "XML_PATH_2024 = './data/xmls_2024/'"
   ]
  },
  {
   "cell_type": "code",
   "execution_count": 7,
   "metadata": {},
   "outputs": [],
   "source": [
    "PATH_2023 = './data/mpk_graph_loader_2023.pkl'\n",
    "PATH_2024 = './data/mpk_graph_loader_2024.pkl'\n",
    "\n",
    "TRAM_PATH_2023 = './data/tram_graph_loader_2023.pkl'\n",
    "TRAM_PATH_2024 = './data/tram_graph_loader_2024.pkl'\n",
    "\n",
    "BUS_PATH_2023 = './data/bus_graph_loader_2023.pkl'\n",
    "BUS_PATH_2024 = './data/bus_graph_loader_2024.pkl'"
   ]
  },
  {
   "cell_type": "code",
   "execution_count": 8,
   "metadata": {},
   "outputs": [
    {
     "name": "stderr",
     "output_type": "stream",
     "text": [
      "100%|██████████| 75/75 [01:07<00:00,  1.11it/s]\n",
      "100%|██████████| 75/75 [01:10<00:00,  1.06it/s]\n",
      "100%|██████████| 75/75 [01:06<00:00,  1.14it/s]\n",
      "100%|██████████| 75/75 [01:14<00:00,  1.01it/s]\n",
      "100%|██████████| 75/75 [01:09<00:00,  1.09it/s]\n",
      "100%|██████████| 75/75 [01:15<00:00,  1.01s/it]\n"
     ]
    }
   ],
   "source": [
    "loader_2023 = MPKGraphLoader(XML_PATH_2023, transfer_time=5.0)\n",
    "loader_2023.to_pickle(PATH_2023)\n",
    "\n",
    "loader_2024 = MPKGraphLoader(XML_PATH_2024, transfer_time=5.0)\n",
    "loader_2024.to_pickle(PATH_2024)\n",
    "\n",
    "tram_loader_2023 = TramGraphLoader(XML_PATH_2023, transfer_time=5.0)\n",
    "tram_loader_2023.to_pickle(TRAM_PATH_2023)\n",
    "tram_loader_2024 = TramGraphLoader(XML_PATH_2024, transfer_time=5.0)\n",
    "tram_loader_2024.to_pickle(TRAM_PATH_2024)\n",
    "\n",
    "bus_loader_2023 = BusGraphLoader(XML_PATH_2023, transfer_time=5.0)\n",
    "bus_loader_2023.to_pickle(BUS_PATH_2023)\n",
    "bus_loader_2024 = BusGraphLoader(XML_PATH_2024, transfer_time=5.0)\n",
    "bus_loader_2024.to_pickle(BUS_PATH_2024)"
   ]
  },
  {
   "cell_type": "markdown",
   "metadata": {},
   "source": [
    "### Ładowanie grafu z plików pickle"
   ]
  },
  {
   "cell_type": "code",
   "execution_count": null,
   "metadata": {},
   "outputs": [],
   "source": [
    "loader_2023 = MPKGraphLoader.from_pickle(PATH_2023)\n",
    "loader_2024 = MPKGraphLoader.from_pickle(PATH_2024)"
   ]
  },
  {
   "cell_type": "markdown",
   "metadata": {},
   "source": [
    "### Dostęp do grafów poszczególnych linii"
   ]
  },
  {
   "cell_type": "code",
   "execution_count": 10,
   "metadata": {},
   "outputs": [
    {
     "data": {
      "text/plain": [
       "networkx.classes.digraph.DiGraph"
      ]
     },
     "execution_count": 10,
     "metadata": {},
     "output_type": "execute_result"
    }
   ],
   "source": [
    "line_graph = loader_2023['11']\n",
    "type(line_graph)"
   ]
  },
  {
   "cell_type": "markdown",
   "metadata": {},
   "source": [
    "### Dostęp do pełnego multigrafu komunikacji miejskiej"
   ]
  },
  {
   "cell_type": "code",
   "execution_count": 5,
   "metadata": {},
   "outputs": [
    {
     "data": {
      "text/plain": [
       "networkx.classes.digraph.DiGraph"
      ]
     },
     "execution_count": 5,
     "metadata": {},
     "output_type": "execute_result"
    }
   ],
   "source": [
    "multigraph = loader_2023.multigraph\n",
    "type(multigraph)"
   ]
  },
  {
   "cell_type": "markdown",
   "metadata": {},
   "source": [
    "### Dostęp do przystanków o danej nazwie"
   ]
  },
  {
   "cell_type": "code",
   "execution_count": 12,
   "metadata": {},
   "outputs": [
    {
     "data": {
      "text/plain": [
       "[line 151: \"pl. grunwaldzki\",\n",
       " line c: \"pl. grunwaldzki\",\n",
       " line d: \"pl. grunwaldzki\",\n",
       " line 1: \"pl. grunwaldzki\",\n",
       " line 2: \"pl. grunwaldzki\",\n",
       " line 4: \"pl. grunwaldzki\",\n",
       " line 10: \"pl. grunwaldzki\",\n",
       " line 16: \"pl. grunwaldzki\",\n",
       " line 33: \"pl. grunwaldzki\",\n",
       " line 70: \"pl. grunwaldzki\",\n",
       " line 111: \"pl. grunwaldzki\",\n",
       " line 115: \"pl. grunwaldzki\",\n",
       " line 116: \"pl. grunwaldzki\",\n",
       " line 121: \"pl. grunwaldzki\",\n",
       " line 131: \"pl. grunwaldzki\",\n",
       " line 145: \"pl. grunwaldzki\",\n",
       " line 146: \"pl. grunwaldzki\",\n",
       " line 149: \"pl. grunwaldzki\"]"
      ]
     },
     "execution_count": 12,
     "metadata": {},
     "output_type": "execute_result"
    }
   ],
   "source": [
    "loader_2023.get_stop('pl. grunwaldzki')"
   ]
  },
  {
   "cell_type": "code",
   "execution_count": 10,
   "metadata": {},
   "outputs": [
    {
     "data": {
      "text/plain": [
       "(51.111746845625, 17.061435821875)"
      ]
     },
     "execution_count": 10,
     "metadata": {},
     "output_type": "execute_result"
    }
   ],
   "source": [
    "s = loader_2023.get_stop('pl. grunwaldzki')[0]\n",
    "s.lat, s.lon"
   ]
  },
  {
   "cell_type": "code",
   "execution_count": 11,
   "metadata": {},
   "outputs": [
    {
     "data": {
      "text/plain": [
       "(51.131949363000004, 17.064928504)"
      ]
     },
     "execution_count": 11,
     "metadata": {},
     "output_type": "execute_result"
    }
   ],
   "source": [
    "s = loader_2023.get_stop('kromera')[0]\n",
    "s.lat, s.lon"
   ]
  },
  {
   "cell_type": "code",
   "execution_count": 16,
   "metadata": {},
   "outputs": [
    {
     "data": {
      "text/plain": [
       "(51.10530141833333, 17.047809525)"
      ]
     },
     "execution_count": 16,
     "metadata": {},
     "output_type": "execute_result"
    }
   ],
   "source": [
    "s = loader_2023.get_stop('pl. wróblewskiego')[0]\n",
    "s.lat, s.lon"
   ]
  },
  {
   "cell_type": "code",
   "execution_count": 6,
   "metadata": {},
   "outputs": [
    {
     "data": {
      "text/html": [
       "<div>\n",
       "<style scoped>\n",
       "    .dataframe tbody tr th:only-of-type {\n",
       "        vertical-align: middle;\n",
       "    }\n",
       "\n",
       "    .dataframe tbody tr th {\n",
       "        vertical-align: top;\n",
       "    }\n",
       "\n",
       "    .dataframe thead th {\n",
       "        text-align: right;\n",
       "    }\n",
       "</style>\n",
       "<table border=\"1\" class=\"dataframe\">\n",
       "  <thead>\n",
       "    <tr style=\"text-align: right;\">\n",
       "      <th></th>\n",
       "      <th>region_id</th>\n",
       "      <th>geometry</th>\n",
       "    </tr>\n",
       "  </thead>\n",
       "  <tbody>\n",
       "    <tr>\n",
       "      <th>0</th>\n",
       "      <td>starodworska</td>\n",
       "      <td>POINT (17.10857 51.07386)</td>\n",
       "    </tr>\n",
       "    <tr>\n",
       "      <th>1</th>\n",
       "      <td>pracze widawskie</td>\n",
       "      <td>POINT (17.01560 51.17768)</td>\n",
       "    </tr>\n",
       "    <tr>\n",
       "      <th>2</th>\n",
       "      <td>młodych techników</td>\n",
       "      <td>POINT (17.01216 51.11282)</td>\n",
       "    </tr>\n",
       "    <tr>\n",
       "      <th>3</th>\n",
       "      <td>muchobór mały (stacja kolejowa)</td>\n",
       "      <td>POINT (16.97060 51.11258)</td>\n",
       "    </tr>\n",
       "    <tr>\n",
       "      <th>4</th>\n",
       "      <td>kasprowicza</td>\n",
       "      <td>POINT (17.05343 51.13777)</td>\n",
       "    </tr>\n",
       "  </tbody>\n",
       "</table>\n",
       "</div>"
      ],
      "text/plain": [
       "                         region_id                   geometry\n",
       "0                     starodworska  POINT (17.10857 51.07386)\n",
       "1                 pracze widawskie  POINT (17.01560 51.17768)\n",
       "2                młodych techników  POINT (17.01216 51.11282)\n",
       "3  muchobór mały (stacja kolejowa)  POINT (16.97060 51.11258)\n",
       "4                      kasprowicza  POINT (17.05343 51.13777)"
      ]
     },
     "execution_count": 6,
     "metadata": {},
     "output_type": "execute_result"
    }
   ],
   "source": [
    "stops = []\n",
    "for name in loader_2023.stop_names:\n",
    "    stop = loader_2023.get_stop(name)[0]\n",
    "    d = {\n",
    "        'region_id': name,\n",
    "        'geometry': Point(stop.lon, stop.lat)\n",
    "    }\n",
    "    stops.append(d)\n",
    "\n",
    "points = gpd.GeoDataFrame.from_dict(stops)\n",
    "points.head()"
   ]
  },
  {
   "cell_type": "markdown",
   "metadata": {},
   "source": [
    "### Lista przystanków dostępnych w danym czasie\n",
    "\n",
    "`transfer_time` jest opcjonalny i służy temu żeby overrideować ten defaultowo ustawiony w konstruktorze."
   ]
  },
  {
   "cell_type": "code",
   "execution_count": 6,
   "metadata": {},
   "outputs": [
    {
     "data": {
      "text/plain": [
       "{'8 maja',\n",
       " 'bujwida',\n",
       " 'chełmońskiego',\n",
       " 'chopina',\n",
       " 'dworzec główny',\n",
       " 'galeria dominikańska',\n",
       " 'godebskiego (awf wrocław)',\n",
       " 'grunwaldzka',\n",
       " 'górnickiego',\n",
       " 'hala stulecia',\n",
       " 'karłowicza',\n",
       " 'katedra',\n",
       " 'kliniki - politechnika wrocławska',\n",
       " 'kochanowskiego',\n",
       " 'krasińskiego',\n",
       " 'kwidzyńska',\n",
       " 'mickiewicza',\n",
       " 'monopolowa',\n",
       " 'monte cassino',\n",
       " 'most grunwaldzki',\n",
       " 'nowowiejska',\n",
       " 'ogród botaniczny',\n",
       " 'okrzei',\n",
       " 'park szczytnicki',\n",
       " 'partyzantów',\n",
       " 'piastowska',\n",
       " 'piramowicza',\n",
       " 'pl. bema',\n",
       " 'pl. grunwaldzki',\n",
       " 'pl. wróblewskiego',\n",
       " 'poczta główna',\n",
       " 'prusa',\n",
       " 'reja',\n",
       " 'skwer krasińskiego',\n",
       " 'spółdzielcza',\n",
       " 'stadion olimpijski',\n",
       " 'sępolno',\n",
       " 'słowiańska',\n",
       " 'tramwajowa',\n",
       " 'urząd wojewódzki (impart)',\n",
       " 'urząd wojewódzki (muzeum narodowe)',\n",
       " 'wyszyńskiego',\n",
       " 'wzgórze partyzantów',\n",
       " 'zacisze',\n",
       " 'zamkowa',\n",
       " 'zoo',\n",
       " 'śniadeckich',\n",
       " 'świdnicka',\n",
       " 'świętokrzyska'}"
      ]
     },
     "execution_count": 6,
     "metadata": {},
     "output_type": "execute_result"
    }
   ],
   "source": [
    "stops: set[Stop] = loader_2023.get_stops_in_range('pl. grunwaldzki', max_time=10, transfer_time=5)\n",
    "stop_names: set[str] = set(map(lambda stop: stop.name, stops))\n",
    "stop_names"
   ]
  },
  {
   "cell_type": "markdown",
   "metadata": {},
   "source": [
    "### Otrzymywanie podgrafu dla konkretnych linii\n",
    "`tram_line_names: list[str]` - zwraca nazwy wszystkich linii tramwajowych\n",
    "\n",
    "`bus_line_names: list[str]` - zwraca nazwy wszystkich linii autobusowych"
   ]
  },
  {
   "cell_type": "code",
   "execution_count": 14,
   "metadata": {},
   "outputs": [
    {
     "data": {
      "image/png": "[encoded data removed]",
      "text/plain": [
       "<Figure size 640x480 with 1 Axes>"
      ]
     },
     "metadata": {},
     "output_type": "display_data"
    }
   ],
   "source": [
    "subgraph = loader_2023.get_sugraph(['11', '6', 'a'])\n",
    "nx.draw_kamada_kawai(subgraph, node_size=20, node_color=get_line_colors(subgraph))"
   ]
  },
  {
   "cell_type": "code",
   "execution_count": null,
   "metadata": {},
   "outputs": [],
   "source": []
  }
 ],
 "metadata": {
  "kernelspec": {
   "display_name": "venv",
   "language": "python",
   "name": "python3"
  },
  "language_info": {
   "codemirror_mode": {
    "name": "ipython",
    "version": 3
   },
   "file_extension": ".py",
   "mimetype": "text/x-python",
   "name": "python",
   "nbconvert_exporter": "python",
   "pygments_lexer": "ipython3",
   "version": "3.10.8"
  }
 },
 "nbformat": 4,
 "nbformat_minor": 2
}
